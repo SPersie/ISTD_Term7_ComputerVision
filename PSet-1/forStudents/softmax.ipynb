{
 "cells": [
  {
   "cell_type": "markdown",
   "metadata": {},
   "source": [
    "# Softmax exercise\n",
    "\n",
    "*Complete and hand in this completed worksheet (including its outputs and any supporting code outside of the worksheet) with your assignment submission.*\n",
    "\n",
    "In this exercise, you will:\n",
    "\n",
    "- implement a fully-vectorized **loss function** for the Softmax classifier\n",
    "- implement the fully-vectorized expression for its **analytic gradient**\n",
    "- **check your implementation** with numerical gradient\n",
    "- use a validation set to **tune the learning rate and regularization** strength\n",
    "- **optimize** the loss function with **SGD**\n",
    "- **visualize** the final learned weights\n"
   ]
  },
  {
   "cell_type": "code",
   "execution_count": 1,
   "metadata": {},
   "outputs": [],
   "source": [
    "import random\n",
    "import numpy as np\n",
    "from data_utils import load_CIFAR10\n",
    "import matplotlib.pyplot as plt\n",
    "\n",
    "%matplotlib inline\n",
    "plt.rcParams['figure.figsize'] = (10.0, 8.0) # set default size of plots\n",
    "plt.rcParams['image.interpolation'] = 'nearest'\n",
    "plt.rcParams['image.cmap'] = 'gray'\n",
    "\n",
    "# for auto-reloading extenrnal modules\n",
    "# see http://stackoverflow.com/questions/1907993/autoreload-of-modules-in-ipython\n",
    "%load_ext autoreload\n",
    "%autoreload 2"
   ]
  },
  {
   "cell_type": "code",
   "execution_count": 2,
   "metadata": {},
   "outputs": [],
   "source": [
    "def rel_error(out, correct_out):\n",
    "    return np.sum(abs(out - correct_out) / (abs(out) + abs(correct_out)))"
   ]
  },
  {
   "cell_type": "code",
   "execution_count": 3,
   "metadata": {},
   "outputs": [
    {
     "name": "stdout",
     "output_type": "stream",
     "text": [
      "Train data shape:  (49000, 3073)\n",
      "Train labels shape:  (49000,)\n",
      "Validation data shape:  (1000, 3073)\n",
      "Validation labels shape:  (1000,)\n",
      "Test data shape:  (1000, 3073)\n",
      "Test labels shape:  (1000,)\n",
      "dev data shape:  (500, 3073)\n",
      "dev labels shape:  (500,)\n"
     ]
    }
   ],
   "source": [
    "def get_CIFAR10_data(num_training=49000, num_validation=1000, num_test=1000, num_dev=500):\n",
    "    \"\"\"\n",
    "    Load the CIFAR-10 dataset from disk and perform preprocessing to prepare\n",
    "    it for the linear classifier. These are the same steps as we used for the\n",
    "    Softmax, but condensed to a single function.  \n",
    "    \"\"\"\n",
    "    # Load the raw CIFAR-10 data\n",
    "    cifar10_dir = 'datasets/cifar-10-batches-py'\n",
    "    X_train, y_train, X_test, y_test = load_CIFAR10(cifar10_dir)\n",
    "\n",
    "    # subsample the data\n",
    "    mask = range(num_training, num_training + num_validation)\n",
    "    X_val = X_train[mask]\n",
    "    y_val = y_train[mask]\n",
    "    mask = range(num_training)\n",
    "    X_train = X_train[mask]\n",
    "    y_train = y_train[mask]\n",
    "    mask = range(num_test)\n",
    "    X_test = X_test[mask]\n",
    "    y_test = y_test[mask]\n",
    "    \n",
    "    # # We will also make a development set, which is a small subset of\n",
    "    # the training set.\n",
    "    mask = np.random.choice(num_training, num_dev, replace=False)\n",
    "    X_dev = X_train[mask]\n",
    "    y_dev = y_train[mask]\n",
    "\n",
    "    # Preprocessing: reshape the image data into rows\n",
    "    X_train = np.reshape(X_train, (X_train.shape[0], -1))\n",
    "    X_val = np.reshape(X_val, (X_val.shape[0], -1))\n",
    "    X_test = np.reshape(X_test, (X_test.shape[0], -1))\n",
    "    X_dev = np.reshape(X_dev, (X_dev.shape[0], -1))\n",
    "\n",
    "    # Normalize the data: subtract the mean image\n",
    "    mean_image = np.mean(X_train, axis = 0)\n",
    "    X_train -= mean_image\n",
    "    X_val -= mean_image\n",
    "    X_test -= mean_image\n",
    "    X_dev -= mean_image\n",
    "\n",
    "    # add bias dimension and transform into columns\n",
    "    X_train = np.hstack([X_train, np.ones((X_train.shape[0], 1))])\n",
    "    X_val = np.hstack([X_val, np.ones((X_val.shape[0], 1))])\n",
    "    X_test = np.hstack([X_test, np.ones((X_test.shape[0], 1))])\n",
    "    X_dev = np.hstack([X_dev, np.ones((X_dev.shape[0], 1))])\n",
    "\n",
    "    return X_train, y_train, X_val, y_val, X_test, y_test, X_dev, y_dev\n",
    "\n",
    "\n",
    "# Invoke the above function to get our data.\n",
    "X_train, y_train, X_val, y_val, X_test, y_test, X_dev, y_dev = get_CIFAR10_data()\n",
    "print('Train data shape: ', X_train.shape)\n",
    "print('Train labels shape: ', y_train.shape)\n",
    "print('Validation data shape: ', X_val.shape)\n",
    "print('Validation labels shape: ', y_val.shape)\n",
    "print('Test data shape: ', X_test.shape)\n",
    "print('Test labels shape: ', y_test.shape)\n",
    "print('dev data shape: ', X_dev.shape)\n",
    "print('dev labels shape: ', y_dev.shape)"
   ]
  },
  {
   "cell_type": "code",
   "execution_count": 4,
   "metadata": {},
   "outputs": [],
   "source": [
    "# Create one-hot vectors for label\n",
    "num_class = 10\n",
    "y_train_oh = np.zeros((y_train.shape[0], 10))\n",
    "y_train_oh[np.arange(y_train.shape[0]), y_train] = 1\n",
    "y_val_oh = np.zeros((y_val.shape[0], 10))\n",
    "y_val_oh[np.arange(y_val.shape[0]), y_val] = 1\n",
    "y_test_oh = np.zeros((y_test.shape[0], 10))\n",
    "y_test_oh[np.arange(y_test.shape[0]), y_test] = 1\n",
    "\n",
    "y_dev_oh = np.zeros((y_dev.shape[0], 10))\n",
    "y_dev_oh[np.arange(y_dev.shape[0]), y_dev] = 1"
   ]
  },
  {
   "cell_type": "markdown",
   "metadata": {},
   "source": [
    "# Regression as classifier\n",
    "The most simple and straightforward approach to learn a classifier is to map the input data (raw image values) to class label (one-hot vector). The loss function is defined as following: \n",
    "$$\\mathcal{L}=\\frac{1}{n}\\|\\mathbf{X}\\mathbf{W}-\\mathbf{y}\\|_F^2\\qquad\\qquad(1)$$\n",
    "Where:\n",
    "* $\\mathbf{W}\\in \\mathbb{R}^{(d+1)\\times C}$: Classifier weight\n",
    "* $\\mathbf{X}\\in \\mathbb{R}^{n\\times (d+1)}$: Dataset\n",
    "* $\\mathbf{y}\\in \\mathbb{R}^{n\\times C}$: Class label (one-hot vector)"
   ]
  },
  {
   "cell_type": "markdown",
   "metadata": {},
   "source": [
    "# Optimization\n",
    "Given the loss function (1), the next problem is how to solve the weight $\\mathbf{W}$. We now discuss 2 approaches: \n",
    " * Random search\n",
    " * Closed-form solution\n",
    "\n",
    "## Random search"
   ]
  },
  {
   "cell_type": "code",
   "execution_count": 5,
   "metadata": {
    "collapsed": true
   },
   "outputs": [
    {
     "name": "stdout",
     "output_type": "stream",
     "text": [
      "in attempt 0 the loss was 31.097852, best 31.097852\n",
      "in attempt 1 the loss was 35.986907, best 31.097852\n",
      "in attempt 2 the loss was 32.936750, best 31.097852\n",
      "in attempt 3 the loss was 32.263297, best 31.097852\n",
      "in attempt 4 the loss was 33.316720, best 31.097852\n",
      "in attempt 5 the loss was 33.530687, best 31.097852\n",
      "in attempt 6 the loss was 33.089863, best 31.097852\n",
      "in attempt 7 the loss was 33.797979, best 31.097852\n",
      "in attempt 8 the loss was 31.849634, best 31.097852\n",
      "in attempt 9 the loss was 31.078356, best 31.078356\n",
      "in attempt 10 the loss was 32.901067, best 31.078356\n",
      "in attempt 11 the loss was 32.724453, best 31.078356\n",
      "in attempt 12 the loss was 34.693179, best 31.078356\n",
      "in attempt 13 the loss was 33.269654, best 31.078356\n",
      "in attempt 14 the loss was 33.896164, best 31.078356\n",
      "in attempt 15 the loss was 31.727043, best 31.078356\n",
      "in attempt 16 the loss was 31.291954, best 31.078356\n",
      "in attempt 17 the loss was 34.024641, best 31.078356\n",
      "in attempt 18 the loss was 31.856058, best 31.078356\n",
      "in attempt 19 the loss was 34.706234, best 31.078356\n",
      "in attempt 20 the loss was 32.552190, best 31.078356\n",
      "in attempt 21 the loss was 30.909683, best 30.909683\n",
      "in attempt 22 the loss was 33.826905, best 30.909683\n",
      "in attempt 23 the loss was 31.748100, best 30.909683\n",
      "in attempt 24 the loss was 33.683554, best 30.909683\n",
      "in attempt 25 the loss was 33.235776, best 30.909683\n",
      "in attempt 26 the loss was 33.766795, best 30.909683\n",
      "in attempt 27 the loss was 32.458615, best 30.909683\n",
      "in attempt 28 the loss was 32.793571, best 30.909683\n",
      "in attempt 29 the loss was 32.980274, best 30.909683\n",
      "in attempt 30 the loss was 33.646236, best 30.909683\n",
      "in attempt 31 the loss was 32.000726, best 30.909683\n",
      "in attempt 32 the loss was 34.343205, best 30.909683\n",
      "in attempt 33 the loss was 32.809490, best 30.909683\n",
      "in attempt 34 the loss was 30.753257, best 30.753257\n",
      "in attempt 35 the loss was 33.363264, best 30.753257\n",
      "in attempt 36 the loss was 32.521487, best 30.753257\n",
      "in attempt 37 the loss was 32.286729, best 30.753257\n",
      "in attempt 38 the loss was 33.466272, best 30.753257\n",
      "in attempt 39 the loss was 33.767820, best 30.753257\n",
      "in attempt 40 the loss was 34.014519, best 30.753257\n",
      "in attempt 41 the loss was 33.604679, best 30.753257\n",
      "in attempt 42 the loss was 33.021665, best 30.753257\n",
      "in attempt 43 the loss was 34.238782, best 30.753257\n",
      "in attempt 44 the loss was 31.868839, best 30.753257\n",
      "in attempt 45 the loss was 34.560101, best 30.753257\n",
      "in attempt 46 the loss was 33.859088, best 30.753257\n",
      "in attempt 47 the loss was 33.872607, best 30.753257\n",
      "in attempt 48 the loss was 35.401592, best 30.753257\n",
      "in attempt 49 the loss was 32.297212, best 30.753257\n",
      "in attempt 50 the loss was 33.731449, best 30.753257\n",
      "in attempt 51 the loss was 32.974246, best 30.753257\n",
      "in attempt 52 the loss was 33.360920, best 30.753257\n",
      "in attempt 53 the loss was 36.814551, best 30.753257\n",
      "in attempt 54 the loss was 32.383545, best 30.753257\n",
      "in attempt 55 the loss was 33.313233, best 30.753257\n",
      "in attempt 56 the loss was 32.943898, best 30.753257\n",
      "in attempt 57 the loss was 35.537028, best 30.753257\n",
      "in attempt 58 the loss was 31.539891, best 30.753257\n",
      "in attempt 59 the loss was 31.464733, best 30.753257\n",
      "in attempt 60 the loss was 32.306981, best 30.753257\n",
      "in attempt 61 the loss was 31.490039, best 30.753257\n",
      "in attempt 62 the loss was 32.139464, best 30.753257\n",
      "in attempt 63 the loss was 33.191718, best 30.753257\n",
      "in attempt 64 the loss was 32.380865, best 30.753257\n",
      "in attempt 65 the loss was 32.790204, best 30.753257\n",
      "in attempt 66 the loss was 30.227760, best 30.227760\n",
      "in attempt 67 the loss was 30.776805, best 30.227760\n",
      "in attempt 68 the loss was 32.365543, best 30.227760\n",
      "in attempt 69 the loss was 36.965447, best 30.227760\n",
      "in attempt 70 the loss was 32.575221, best 30.227760\n",
      "in attempt 71 the loss was 30.665061, best 30.227760\n",
      "in attempt 72 the loss was 33.697618, best 30.227760\n",
      "in attempt 73 the loss was 35.596273, best 30.227760\n",
      "in attempt 74 the loss was 32.185674, best 30.227760\n",
      "in attempt 75 the loss was 32.197692, best 30.227760\n",
      "in attempt 76 the loss was 32.185795, best 30.227760\n",
      "in attempt 77 the loss was 33.575504, best 30.227760\n",
      "in attempt 78 the loss was 32.962141, best 30.227760\n",
      "in attempt 79 the loss was 34.287886, best 30.227760\n",
      "in attempt 80 the loss was 32.794918, best 30.227760\n",
      "in attempt 81 the loss was 33.452308, best 30.227760\n",
      "in attempt 82 the loss was 33.735422, best 30.227760\n",
      "in attempt 83 the loss was 32.112291, best 30.227760\n",
      "in attempt 84 the loss was 34.023853, best 30.227760\n",
      "in attempt 85 the loss was 32.760048, best 30.227760\n",
      "in attempt 86 the loss was 32.747929, best 30.227760\n",
      "in attempt 87 the loss was 32.216412, best 30.227760\n",
      "in attempt 88 the loss was 33.294907, best 30.227760\n",
      "in attempt 89 the loss was 31.712067, best 30.227760\n",
      "in attempt 90 the loss was 31.398513, best 30.227760\n",
      "in attempt 91 the loss was 34.414248, best 30.227760\n",
      "in attempt 92 the loss was 32.986523, best 30.227760\n",
      "in attempt 93 the loss was 35.948089, best 30.227760\n",
      "in attempt 94 the loss was 33.894141, best 30.227760\n",
      "in attempt 95 the loss was 32.095476, best 30.227760\n",
      "in attempt 96 the loss was 32.895736, best 30.227760\n",
      "in attempt 97 the loss was 32.178781, best 30.227760\n",
      "in attempt 98 the loss was 33.690184, best 30.227760\n",
      "in attempt 99 the loss was 32.605644, best 30.227760\n"
     ]
    }
   ],
   "source": [
    "bestloss = float('inf')\n",
    "for num in range(100):\n",
    "    W = np.random.randn(3073, 10) * 0.0001\n",
    "    loss = np.linalg.norm(X_dev.dot(W) - y_dev_oh)\n",
    "    if (loss < bestloss):\n",
    "        bestloss = loss\n",
    "        bestW = W\n",
    "    print('in attempt %d the loss was %f, best %f' % (num, loss, bestloss))"
   ]
  },
  {
   "cell_type": "code",
   "execution_count": 6,
   "metadata": {},
   "outputs": [
    {
     "name": "stdout",
     "output_type": "stream",
     "text": [
      "Accuracy on train set:  15.8\n",
      "Accuracy on test set:  16.900000000000002\n"
     ]
    }
   ],
   "source": [
    "# How bestW perform:\n",
    "print('Accuracy on train set: ', np.sum(np.argmin(np.abs(1 - X_dev.dot(bestW)), axis=1) == y_dev).astype(np.float32)/y_dev.shape[0]*100)\n",
    "print('Accuracy on test set: ', np.sum(np.argmin(np.abs(1 - X_test.dot(bestW)), axis=1) == y_test).astype(np.float32)/y_test.shape[0]*100)"
   ]
  },
  {
   "cell_type": "markdown",
   "metadata": {},
   "source": [
    "You can clearly see that the performance is very low, almost at the random level."
   ]
  },
  {
   "cell_type": "markdown",
   "metadata": {},
   "source": [
    "## Closed-form solution\n",
    "The closed-form solution is achieved by:\n",
    "$$\\frac{\\partial\\mathcal{L}}{\\partial \\mathbf{W}}=\\frac{2}{n}\\mathbf{X}^T(\\mathbf{X}\\mathbf{W}-\\mathbf{y})=0$$\n",
    "\n",
    "$$\\Leftrightarrow\\mathbf{W}^\\ast=(\\mathbf{X}^T\\mathbf{X})^{-1}\\mathbf{X}^T\\mathbf{y}$$"
   ]
  },
  {
   "cell_type": "code",
   "execution_count": 7,
   "metadata": {},
   "outputs": [],
   "source": [
    "################################################################################\n",
    "# TODO:                                                                        #\n",
    "# Implement the closed-form solution of the weight W.                          #\n",
    "################################################################################\n",
    "X_train_trans = np.transpose(X_train)\n",
    "pre = np.matmul(X_train_trans, X_train)\n",
    "pre_inverse = np.linalg.inv(pre)\n",
    "pre_pre = np.matmul(pre_inverse, X_train_trans)\n",
    "W = np.matmul(pre_pre, y_train_oh)\n",
    "\n",
    "\n",
    " \n",
    "################################################################################\n",
    "#                              END OF YOUR CODE                                #\n",
    "################################################################################"
   ]
  },
  {
   "cell_type": "code",
   "execution_count": 8,
   "metadata": {},
   "outputs": [
    {
     "name": "stdout",
     "output_type": "stream",
     "text": [
      "Train set accuracy:  51.163265306122454\n",
      "Test set accuracy:  36.199999999999996\n"
     ]
    }
   ],
   "source": [
    "# Check accuracy:\n",
    "print('Train set accuracy: ', np.sum(np.argmin(np.abs(1 - X_train.dot(W)), axis=1) == y_train).astype(np.float32)/y_train.shape[0]*100)\n",
    "print('Test set accuracy: ', np.sum(np.argmin(np.abs(1 - X_test.dot(W)), axis=1) == y_test).astype(np.float32)/y_test.shape[0]*100)"
   ]
  },
  {
   "cell_type": "markdown",
   "metadata": {},
   "source": [
    "Now, you can see that the performance is much better."
   ]
  },
  {
   "cell_type": "markdown",
   "metadata": {},
   "source": [
    "## Regularization\n",
    "A simple way to improve performance is to include the L2-regularization penalty.\n",
    "$$\\mathcal{L}=\\frac{1}{n}\\|\\mathbf{X}\\mathbf{W}-\\mathbf{y}\\|_F^2 +\\lambda \\|\\mathbf{W}\\|_F^2 \\qquad\\qquad(2)$$\n",
    "The closed-form solution now is: \n",
    "$$\\Leftrightarrow\\mathbf{W}^\\ast=(\\mathbf{X}^T\\mathbf{X}+\\lambda n\\mathbf{I})^{-1}\\mathbf{X}^T\\mathbf{y}$$"
   ]
  },
  {
   "cell_type": "code",
   "execution_count": 9,
   "metadata": {},
   "outputs": [
    {
     "name": "stdout",
     "output_type": "stream",
     "text": [
      "Train set accuracy of  0.01  :  51.159183673469386\n",
      "Test set accuracy of  0.01  :  36.3\n",
      "Train set accuracy of  0.1  :  51.069387755102035\n",
      "Test set accuracy of  0.1  :  36.3\n",
      "Train set accuracy of  1  :  50.39591836734694\n",
      "Test set accuracy of  1  :  37.1\n",
      "Train set accuracy of  10  :  48.71632653061225\n",
      "Test set accuracy of  10  :  37.8\n",
      "Train set accuracy of  100  :  46.49183673469388\n",
      "Test set accuracy of  100  :  39.2\n",
      "Train set accuracy of  1000  :  44.304081632653066\n",
      "Test set accuracy of  1000  :  40.5\n",
      "Train set accuracy of  10000  :  41.55714285714286\n",
      "Test set accuracy of  10000  :  40.2\n",
      "Train set accuracy of  100000  :  37.30204081632653\n",
      "Test set accuracy of  100000  :  38.1\n"
     ]
    }
   ],
   "source": [
    "# try several values of lambda to see how it helps:\n",
    "lambdas = [0.01, 0.1, 1, 10, 100, 1000, 10000, 100000]\n",
    "train_acc = np.zeros((len(lambdas)))\n",
    "test_acc = np.zeros((len(lambdas)))\n",
    "for i in range(len(lambdas)):\n",
    "    l = lambdas[i]\n",
    "    n,d = X_train.shape[0], X_train.shape[1]\n",
    "    ################################################################################\n",
    "    # TODO:                                                                        #\n",
    "    # Implement the closed-form solution of the weight W with regularization.      #\n",
    "    ################################################################################\n",
    "    X_train_trans = np.transpose(X_train)\n",
    "    pre_1 = np.matmul(X_train_trans, X_train)\n",
    "    pre = pre_1 + l * n * np.identity(pre_1.shape[0])\n",
    "    pre_inverse = np.linalg.inv(pre)\n",
    "    pre_pre = np.matmul(pre_inverse, X_train_trans)\n",
    "    W = np.matmul(pre_pre, y_train_oh)\n",
    " \n",
    "    ################################################################################\n",
    "    #                              END OF YOUR CODE                                #\n",
    "    ################################################################################\n",
    "    train_acc[i] = np.sum(np.argmin(np.abs(1 - X_train.dot(W)), axis=1) == y_train).astype(np.float32)/y_train.shape[0]*100\n",
    "    print('Train set accuracy of ', l, ' : ', train_acc[i])\n",
    "    test_acc[i]  = np.sum(np.argmin(np.abs(1 - X_te\n",
    "                                           st.dot(W)), axis=1) == y_test).astype(np.float32)/y_test.shape[0]*100\n",
    "    print('Test set accuracy of ', l, ' : ', test_acc[i])"
   ]
  },
  {
   "cell_type": "code",
   "execution_count": 10,
   "metadata": {},
   "outputs": [
    {
     "data": {
      "image/png": "[encoded data removed]",
      "text/plain": [
       "<Figure size 432x288 with 1 Axes>"
      ]
     },
     "metadata": {
      "needs_background": "light"
     },
     "output_type": "display_data"
    }
   ],
   "source": [
    "plt.semilogx(lambdas, train_acc, 'r', label=\"Training accuracy\")\n",
    "plt.semilogx(lambdas, test_acc, 'g', label=\"Testing accuracy\")\n",
    "\n",
    "plt.legend()\n",
    "plt.grid(True)\n",
    "plt.show()"
   ]
  },
  {
   "cell_type": "markdown",
   "metadata": {},
   "source": [
    "**Question:** Try to explain why the performances on the training and test set have such behaviors as we change the value of $\\lambda$."
   ]
  },
  {
   "cell_type": "markdown",
   "metadata": {},
   "source": [
    "**Your answer:** When $\\lambda$ is small, W tends to be overfitting. When $\\lambda$ is 1000, it has the most optimized result for testing set."
   ]
  },
  {
   "cell_type": "markdown",
   "metadata": {},
   "source": [
    "## Softmax Classifier\n",
    "\n",
    "The predicted probability for the $j$-th class given a sample vector $x$ and a weight $W$ is:\n",
    "\n",
    "$$\\displaystyle{P(y=j\\mid x)=\\frac{e^{-xw_j}}{\\sum\\limits_{c=1}^{C}e^{-xw_c}}}$$ \n",
    "\n",
    "![softmax](imgs/softmax.png \"Example of Softmax\")\n",
    "\n",
    "Your code for this section will all be written inside **classifiers/softmax.py**. \n"
   ]
  },
  {
   "cell_type": "code",
   "execution_count": 14,
   "metadata": {
    "scrolled": true
   },
   "outputs": [
    {
     "name": "stdout",
     "output_type": "stream",
     "text": [
      "loss: 2.332788\n",
      "sanity check: 2.302585\n"
     ]
    }
   ],
   "source": [
    "# First implement the naive softmax loss function with nested loops.\n",
    "# Open the file classifiers/softmax.py and implement the\n",
    "# softmax_loss_naive function.\n",
    "\n",
    "from classifiers.softmax import softmax_loss_naive\n",
    "import time\n",
    "\n",
    "# Generate a random softmax weight matrix and use it to compute the loss.\n",
    "W = np.random.randn(3073, 10) * 0.0001\n",
    "loss, grad = softmax_loss_naive(W, X_dev, y_dev, 0.0)\n",
    "\n",
    "# As a rough sanity check, our loss should be something close to -log(0.1).\n",
    "print('loss: %f' % loss)\n",
    "print('sanity check: %f' % (-np.log(0.1)))"
   ]
  },
  {
   "cell_type": "markdown",
   "metadata": {},
   "source": [
    "**Question:** Why do we expect our loss to be close to -log(0.1)? Explain briefly.**"
   ]
  },
  {
   "cell_type": "markdown",
   "metadata": {},
   "source": [
    "**Your answer:** Fill in here"
   ]
  },
  {
   "cell_type": "markdown",
   "metadata": {},
   "source": [
    "# Optimization\n",
    "\n",
    "\n",
    "## Random search"
   ]
  },
  {
   "cell_type": "code",
   "execution_count": 15,
   "metadata": {},
   "outputs": [
    {
     "name": "stdout",
     "output_type": "stream",
     "text": [
      "in attempt 0 the loss was 2.315287, best 2.315287\n",
      "in attempt 1 the loss was 2.315728, best 2.315287\n",
      "in attempt 2 the loss was 2.279245, best 2.279245\n",
      "in attempt 3 the loss was 2.338965, best 2.279245\n",
      "in attempt 4 the loss was 2.364009, best 2.279245\n",
      "in attempt 5 the loss was 2.399972, best 2.279245\n",
      "in attempt 6 the loss was 2.364766, best 2.279245\n",
      "in attempt 7 the loss was 2.354514, best 2.279245\n",
      "in attempt 8 the loss was 2.409205, best 2.279245\n",
      "in attempt 9 the loss was 2.323656, best 2.279245\n",
      "in attempt 10 the loss was 2.397302, best 2.279245\n",
      "in attempt 11 the loss was 2.339812, best 2.279245\n",
      "in attempt 12 the loss was 2.379946, best 2.279245\n",
      "in attempt 13 the loss was 2.315949, best 2.279245\n",
      "in attempt 14 the loss was 2.361623, best 2.279245\n",
      "in attempt 15 the loss was 2.318217, best 2.279245\n",
      "in attempt 16 the loss was 2.368780, best 2.279245\n",
      "in attempt 17 the loss was 2.363134, best 2.279245\n",
      "in attempt 18 the loss was 2.366291, best 2.279245\n",
      "in attempt 19 the loss was 2.339898, best 2.279245\n",
      "in attempt 20 the loss was 2.355486, best 2.279245\n",
      "in attempt 21 the loss was 2.334065, best 2.279245\n",
      "in attempt 22 the loss was 2.315165, best 2.279245\n",
      "in attempt 23 the loss was 2.351390, best 2.279245\n",
      "in attempt 24 the loss was 2.364131, best 2.279245\n",
      "in attempt 25 the loss was 2.384957, best 2.279245\n",
      "in attempt 26 the loss was 2.358619, best 2.279245\n",
      "in attempt 27 the loss was 2.376561, best 2.279245\n",
      "in attempt 28 the loss was 2.329522, best 2.279245\n",
      "in attempt 29 the loss was 2.337146, best 2.279245\n",
      "in attempt 30 the loss was 2.353836, best 2.279245\n",
      "in attempt 31 the loss was 2.321441, best 2.279245\n",
      "in attempt 32 the loss was 2.333559, best 2.279245\n",
      "in attempt 33 the loss was 2.330200, best 2.279245\n",
      "in attempt 34 the loss was 2.307366, best 2.279245\n",
      "in attempt 35 the loss was 2.361179, best 2.279245\n",
      "in attempt 36 the loss was 2.323411, best 2.279245\n",
      "in attempt 37 the loss was 2.337375, best 2.279245\n",
      "in attempt 38 the loss was 2.381666, best 2.279245\n",
      "in attempt 39 the loss was 2.351327, best 2.279245\n",
      "in attempt 40 the loss was 2.355621, best 2.279245\n",
      "in attempt 41 the loss was 2.401918, best 2.279245\n",
      "in attempt 42 the loss was 2.371483, best 2.279245\n",
      "in attempt 43 the loss was 2.397893, best 2.279245\n",
      "in attempt 44 the loss was 2.336500, best 2.279245\n",
      "in attempt 45 the loss was 2.306861, best 2.279245\n",
      "in attempt 46 the loss was 2.343061, best 2.279245\n",
      "in attempt 47 the loss was 2.362867, best 2.279245\n",
      "in attempt 48 the loss was 2.391230, best 2.279245\n",
      "in attempt 49 the loss was 2.374461, best 2.279245\n",
      "in attempt 50 the loss was 2.383866, best 2.279245\n",
      "in attempt 51 the loss was 2.369601, best 2.279245\n",
      "in attempt 52 the loss was 2.399752, best 2.279245\n",
      "in attempt 53 the loss was 2.346172, best 2.279245\n",
      "in attempt 54 the loss was 2.309303, best 2.279245\n",
      "in attempt 55 the loss was 2.366009, best 2.279245\n",
      "in attempt 56 the loss was 2.312034, best 2.279245\n",
      "in attempt 57 the loss was 2.399871, best 2.279245\n",
      "in attempt 58 the loss was 2.369382, best 2.279245\n",
      "in attempt 59 the loss was 2.353133, best 2.279245\n",
      "in attempt 60 the loss was 2.318029, best 2.279245\n",
      "in attempt 61 the loss was 2.375471, best 2.279245\n",
      "in attempt 62 the loss was 2.335294, best 2.279245\n",
      "in attempt 63 the loss was 2.388040, best 2.279245\n",
      "in attempt 64 the loss was 2.296572, best 2.279245\n",
      "in attempt 65 the loss was 2.327079, best 2.279245\n",
      "in attempt 66 the loss was 2.376346, best 2.279245\n",
      "in attempt 67 the loss was 2.371548, best 2.279245\n",
      "in attempt 68 the loss was 2.328372, best 2.279245\n",
      "in attempt 69 the loss was 2.379915, best 2.279245\n",
      "in attempt 70 the loss was 2.377497, best 2.279245\n",
      "in attempt 71 the loss was 2.297419, best 2.279245\n",
      "in attempt 72 the loss was 2.311660, best 2.279245\n",
      "in attempt 73 the loss was 2.366952, best 2.279245\n",
      "in attempt 74 the loss was 2.342677, best 2.279245\n",
      "in attempt 75 the loss was 2.351796, best 2.279245\n",
      "in attempt 76 the loss was 2.318753, best 2.279245\n",
      "in attempt 77 the loss was 2.342505, best 2.279245\n",
      "in attempt 78 the loss was 2.333173, best 2.279245\n",
      "in attempt 79 the loss was 2.351038, best 2.279245\n",
      "in attempt 80 the loss was 2.388554, best 2.279245\n",
      "in attempt 81 the loss was 2.326636, best 2.279245\n",
      "in attempt 82 the loss was 2.343161, best 2.279245\n",
      "in attempt 83 the loss was 2.345845, best 2.279245\n",
      "in attempt 84 the loss was 2.378235, best 2.279245\n",
      "in attempt 85 the loss was 2.323155, best 2.279245\n",
      "in attempt 86 the loss was 2.418805, best 2.279245\n",
      "in attempt 87 the loss was 2.382597, best 2.279245\n",
      "in attempt 88 the loss was 2.369079, best 2.279245\n",
      "in attempt 89 the loss was 2.340579, best 2.279245\n",
      "in attempt 90 the loss was 2.364311, best 2.279245\n",
      "in attempt 91 the loss was 2.331434, best 2.279245\n",
      "in attempt 92 the loss was 2.293285, best 2.279245\n",
      "in attempt 93 the loss was 2.394173, best 2.279245\n",
      "in attempt 94 the loss was 2.362335, best 2.279245\n",
      "in attempt 95 the loss was 2.370387, best 2.279245\n",
      "in attempt 96 the loss was 2.323099, best 2.279245\n",
      "in attempt 97 the loss was 2.334008, best 2.279245\n",
      "in attempt 98 the loss was 2.317522, best 2.279245\n",
      "in attempt 99 the loss was 2.355111, best 2.279245\n"
     ]
    }
   ],
   "source": [
    "bestloss = float('inf')\n",
    "for num in range(100):\n",
    "    W = np.random.randn(3073, 10) * 0.0001\n",
    "    loss, _ = softmax_loss_naive(W, X_dev, y_dev, 0.0)\n",
    "    if (loss < bestloss):\n",
    "        bestloss = loss\n",
    "        bestW = W\n",
    "    print('in attempt %d the loss was %f, best %f' % (num, loss, bestloss))"
   ]
  },
  {
   "cell_type": "code",
   "execution_count": 16,
   "metadata": {},
   "outputs": [
    {
     "name": "stdout",
     "output_type": "stream",
     "text": [
      "Accuracy on train set 0.131245\n",
      "Accuracy on test set 0.124000\n"
     ]
    }
   ],
   "source": [
    "# How bestW perform on trainset\n",
    "scores = X_train.dot(bestW)\n",
    "y_pred = np.argmax(scores, axis=1)\n",
    "print('Accuracy on train set %f' % np.mean(y_pred == y_train))\n",
    "\n",
    "# evaluate performance of test set\n",
    "scores = X_test.dot(bestW)\n",
    "y_pred = np.argmax(scores, axis=1)\n",
    "print('Accuracy on test set %f' % np.mean(y_pred == y_test))"
   ]
  },
  {
   "cell_type": "markdown",
   "metadata": {},
   "source": [
    "Compare the performance when using random search with *regression classifier* and *softmax classifier*. You can see how much useful the softmax classifier is."
   ]
  },
  {
   "cell_type": "markdown",
   "metadata": {},
   "source": [
    "## Stochastic Gradient descent\n",
    "Even though it is possible to achieve closed-form solution with softmax classifier, it would be more complicated. In fact, we could achieve very good results with gradient descent approach. Additionally, in case of very large dataset, it is impossible to load the whole dataset into the memory. Gradient descent can help to optimize the loss function in batch. \n",
    "\n",
    "$$\\mathbf{W}^{t+1}=\\mathbf{W}^{t}−\\alpha \\frac{\\partial\\mathcal{L(\\mathbf{x};\\mathbf{W}^{t})}}{\\partial\\mathbf{W}^{t}}$$\n",
    "\n",
    "Where $\\alpha$ is the learning rate, $\\mathcal{L}$ is a loss function, and $\\mathbf{x}$ is a batch of training dataset."
   ]
  },
  {
   "cell_type": "code",
   "execution_count": 17,
   "metadata": {},
   "outputs": [
    {
     "name": "stdout",
     "output_type": "stream",
     "text": [
      "numerical: -0.863772 analytic: -0.863772, relative error: 3.286460e-08\n",
      "numerical: -0.830557 analytic: -0.830557, relative error: 9.243450e-08\n",
      "numerical: 2.159302 analytic: 2.159302, relative error: 3.404888e-08\n",
      "numerical: -0.075499 analytic: -0.075499, relative error: 2.376996e-07\n",
      "numerical: -5.666792 analytic: -5.666792, relative error: 2.276835e-09\n",
      "numerical: -2.117591 analytic: -2.117591, relative error: 5.739073e-09\n",
      "numerical: -0.995018 analytic: -0.995018, relative error: 1.605112e-08\n",
      "numerical: 0.199430 analytic: 0.199430, relative error: 1.770890e-07\n",
      "numerical: -0.060309 analytic: -0.060309, relative error: 9.127597e-08\n",
      "numerical: -2.069928 analytic: -2.069928, relative error: 1.044419e-08\n",
      "numerical: 0.176114 analytic: 0.176114, relative error: 2.150958e-07\n",
      "numerical: -4.152779 analytic: -4.152779, relative error: 4.241791e-09\n",
      "numerical: 0.782594 analytic: 0.782594, relative error: 1.654405e-08\n",
      "numerical: 0.193260 analytic: 0.193260, relative error: 1.609427e-07\n",
      "numerical: -2.683427 analytic: -2.683427, relative error: 1.281667e-09\n",
      "numerical: -0.846214 analytic: -0.846214, relative error: 1.180543e-08\n",
      "numerical: -0.289115 analytic: -0.289115, relative error: 2.914200e-08\n",
      "numerical: 0.035788 analytic: 0.035788, relative error: 1.307111e-06\n",
      "numerical: -3.161925 analytic: -3.161925, relative error: 5.695438e-09\n",
      "numerical: 0.322899 analytic: 0.322899, relative error: 1.329794e-07\n"
     ]
    }
   ],
   "source": [
    "# Complete the implementation of softmax_loss_naive and implement a (naive)\n",
    "# version of the gradient that uses nested loops.\n",
    "loss, grad = softmax_loss_naive(W, X_dev, y_dev, 0.0)\n",
    "\n",
    "# Use numeric gradient checking as a debugging tool.\n",
    "# The numeric gradient should be close to the analytic gradient.\n",
    "from gradient_check import grad_check_sparse\n",
    "f = lambda w: softmax_loss_naive(w, X_dev, y_dev, 0.0)[0]\n",
    "grad_numerical = grad_check_sparse(f, W, grad, 10)\n",
    "\n",
    "# gradient check with regularization\n",
    "loss, grad = softmax_loss_naive(W, X_dev, y_dev, 1e2)\n",
    "f = lambda w: softmax_loss_naive(w, X_dev, y_dev, 1e2)[0]\n",
    "grad_numerical = grad_check_sparse(f, W, grad, 10)"
   ]
  },
  {
   "cell_type": "code",
   "execution_count": 24,
   "metadata": {},
   "outputs": [
    {
     "name": "stdout",
     "output_type": "stream",
     "text": [
      "naive loss: 2.355111e+00 computed in 11.699731s\n",
      "vectorized loss: 8.587773e+00 computed in 0.009061s\n",
      "Loss difference: 6.232662\n",
      "Gradient difference: 141.386003\n"
     ]
    }
   ],
   "source": [
    "# Now that we have a naive implementation of the softmax loss function and its gradient,\n",
    "# implement a vectorized version in softmax_loss_vectorized.\n",
    "# The two versions should compute the same results, but the vectorized version should be\n",
    "# much faster.\n",
    "tic = time.time()\n",
    "loss_naive, grad_naive = softmax_loss_naive(W, X_dev, y_dev, 0.00001)\n",
    "toc = time.time()\n",
    "print('naive loss: %e computed in %fs' % (loss_naive, toc - tic))\n",
    "\n",
    "from classifiers.softmax import softmax_loss_vectorized\n",
    "tic = time.time()\n",
    "loss_vectorized, grad_vectorized = softmax_loss_vectorized(W, X_dev, y_dev, 0.00001)\n",
    "toc = time.time()\n",
    "print('vectorized loss: %e computed in %fs' % (loss_vectorized, toc - tic))\n",
    "\n",
    "# We use the Frobenius norm to compare the two versions\n",
    "# of the gradient.\n",
    "grad_difference = np.linalg.norm(grad_naive - grad_vectorized, ord='fro')\n",
    "print('Loss difference: %f' % np.abs(loss_naive - loss_vectorized))\n",
    "print('Gradient difference: %f' % grad_difference)"
   ]
  },
  {
   "cell_type": "code",
   "execution_count": 27,
   "metadata": {},
   "outputs": [
    {
     "name": "stdout",
     "output_type": "stream",
     "text": [
      "iteration 0 / 1500: loss 780.933791\n",
      "iteration 100 / 1500: loss 781.235478\n",
      "iteration 200 / 1500: loss 781.834763\n",
      "iteration 300 / 1500: loss 784.080822\n",
      "iteration 400 / 1500: loss 785.783550\n",
      "iteration 500 / 1500: loss 788.199196\n",
      "iteration 600 / 1500: loss 792.060046\n",
      "iteration 700 / 1500: loss 795.235677\n",
      "iteration 800 / 1500: loss 799.411085\n",
      "iteration 900 / 1500: loss 804.025054\n",
      "iteration 1000 / 1500: loss 808.421515\n",
      "iteration 1100 / 1500: loss 815.391185\n",
      "iteration 1200 / 1500: loss 820.561515\n",
      "iteration 1300 / 1500: loss 828.572252\n",
      "iteration 1400 / 1500: loss 834.540254\n",
      "That took 4.650405s\n"
     ]
    }
   ],
   "source": [
    "from classifiers.linear_classifier import *\n",
    "# from classifiers import linear_classifier\n",
    "\n",
    "classifier = Softmax()\n",
    "tic = time.time()\n",
    "loss_hist = classifier.train(X_train, y_train, learning_rate=1e-7, reg=5e4,\n",
    "                                  num_iters=1500, verbose=True)\n",
    "toc = time.time()\n",
    "print('That took %fs' % (toc - tic))"
   ]
  },
  {
   "cell_type": "code",
   "execution_count": 28,
   "metadata": {},
   "outputs": [
    {
     "name": "stdout",
     "output_type": "stream",
     "text": [
      "training accuracy: 0.248061\n",
      "validation accuracy: 0.263000\n"
     ]
    }
   ],
   "source": [
    "# Write the Softmax.predict function and evaluate the performance on both the\n",
    "# training and validation set\n",
    "y_train_pred = classifier.predict(X_train)\n",
    "print('training accuracy: %f' % (np.mean(y_train == y_train_pred), ))\n",
    "y_val_pred = classifier.predict(X_val)\n",
    "print('validation accuracy: %f' % (np.mean(y_val == y_val_pred), ))"
   ]
  },
  {
   "cell_type": "code",
   "execution_count": 29,
   "metadata": {},
   "outputs": [
    {
     "data": {
      "image/png": "[encoded data removed]",
      "text/plain": [
       "<Figure size 432x288 with 1 Axes>"
      ]
     },
     "metadata": {
      "needs_background": "light"
     },
     "output_type": "display_data"
    }
   ],
   "source": [
    "# A useful debugging strategy is to plot the loss as a function of\n",
    "# iteration number:\n",
    "plt.plot(loss_hist)\n",
    "plt.xlabel('Iteration number')\n",
    "plt.ylabel('Loss value')\n",
    "plt.show()"
   ]
  },
  {
   "cell_type": "code",
   "execution_count": 30,
   "metadata": {},
   "outputs": [
    {
     "name": "stdout",
     "output_type": "stream",
     "text": [
      "softmax on raw pixels final test set accuracy: 26.70\n"
     ]
    }
   ],
   "source": [
    "# evaluate on test set\n",
    "# Evaluate the best softmax on test set\n",
    "y_test_pred = classifier.predict(X_test)\n",
    "test_accuracy = np.mean(y_test == y_test_pred)\n",
    "print('softmax on raw pixels final test set accuracy: %.2f' % (100*test_accuracy, ))"
   ]
  },
  {
   "cell_type": "code",
   "execution_count": 33,
   "metadata": {
    "collapsed": true
   },
   "outputs": [
    {
     "name": "stdout",
     "output_type": "stream",
     "text": [
      "iteration 0 / 1500: loss 10.833682\n"
     ]
    },
    {
     "name": "stderr",
     "output_type": "stream",
     "text": [
      "/Users/lixingxuan/Desktop/Computer Vision/Week-01/forStudents/classifiers/softmax.py:90: RuntimeWarning: divide by zero encountered in log\n",
      "  loss = np.sum(-np.log(correct))\n"
     ]
    },
    {
     "name": "stdout",
     "output_type": "stream",
     "text": [
      "iteration 100 / 1500: loss inf\n",
      "iteration 200 / 1500: loss inf\n",
      "iteration 300 / 1500: loss inf\n",
      "iteration 400 / 1500: loss inf\n",
      "iteration 500 / 1500: loss inf\n",
      "iteration 600 / 1500: loss inf\n",
      "iteration 700 / 1500: loss inf\n",
      "iteration 800 / 1500: loss inf\n",
      "iteration 900 / 1500: loss inf\n",
      "iteration 1000 / 1500: loss inf\n",
      "iteration 1100 / 1500: loss inf\n",
      "iteration 1200 / 1500: loss inf\n",
      "iteration 1300 / 1500: loss inf\n",
      "iteration 1400 / 1500: loss inf\n",
      "iteration 0 / 1500: loss 10.256135\n",
      "iteration 100 / 1500: loss inf\n",
      "iteration 200 / 1500: loss inf\n",
      "iteration 300 / 1500: loss inf\n",
      "iteration 400 / 1500: loss inf\n",
      "iteration 500 / 1500: loss inf\n",
      "iteration 600 / 1500: loss inf\n",
      "iteration 700 / 1500: loss inf\n",
      "iteration 800 / 1500: loss inf\n",
      "iteration 900 / 1500: loss inf\n",
      "iteration 1000 / 1500: loss inf\n",
      "iteration 1100 / 1500: loss inf\n",
      "iteration 1200 / 1500: loss inf\n",
      "iteration 1300 / 1500: loss inf\n",
      "iteration 1400 / 1500: loss inf\n",
      "iteration 0 / 1500: loss 11.253733\n",
      "iteration 100 / 1500: loss inf\n",
      "iteration 200 / 1500: loss inf\n",
      "iteration 300 / 1500: loss inf\n",
      "iteration 400 / 1500: loss inf\n",
      "iteration 500 / 1500: loss inf\n",
      "iteration 600 / 1500: loss inf\n",
      "iteration 700 / 1500: loss inf\n",
      "iteration 800 / 1500: loss inf\n",
      "iteration 900 / 1500: loss inf\n",
      "iteration 1000 / 1500: loss inf\n",
      "iteration 1100 / 1500: loss inf\n",
      "iteration 1200 / 1500: loss inf\n",
      "iteration 1300 / 1500: loss inf\n",
      "iteration 1400 / 1500: loss inf\n",
      "iteration 0 / 1500: loss 11.130422\n",
      "iteration 100 / 1500: loss inf\n",
      "iteration 200 / 1500: loss inf\n",
      "iteration 300 / 1500: loss inf\n",
      "iteration 400 / 1500: loss inf\n",
      "iteration 500 / 1500: loss inf\n",
      "iteration 600 / 1500: loss inf\n",
      "iteration 700 / 1500: loss inf\n",
      "iteration 800 / 1500: loss inf\n",
      "iteration 900 / 1500: loss inf\n",
      "iteration 1000 / 1500: loss inf\n",
      "iteration 1100 / 1500: loss inf\n",
      "iteration 1200 / 1500: loss inf\n",
      "iteration 1300 / 1500: loss inf\n",
      "iteration 1400 / 1500: loss inf\n",
      "iteration 0 / 1500: loss 11.434804\n",
      "iteration 100 / 1500: loss inf\n",
      "iteration 200 / 1500: loss inf\n",
      "iteration 300 / 1500: loss inf\n",
      "iteration 400 / 1500: loss inf\n",
      "iteration 500 / 1500: loss inf\n",
      "iteration 600 / 1500: loss inf\n",
      "iteration 700 / 1500: loss inf\n",
      "iteration 800 / 1500: loss inf\n",
      "iteration 900 / 1500: loss inf\n",
      "iteration 1000 / 1500: loss inf\n",
      "iteration 1100 / 1500: loss inf\n",
      "iteration 1200 / 1500: loss inf\n",
      "iteration 1300 / 1500: loss inf\n",
      "iteration 1400 / 1500: loss inf\n",
      "iteration 0 / 1500: loss 10.616550\n",
      "iteration 100 / 1500: loss inf\n",
      "iteration 200 / 1500: loss inf\n",
      "iteration 300 / 1500: loss inf\n",
      "iteration 400 / 1500: loss inf\n",
      "iteration 500 / 1500: loss inf\n",
      "iteration 600 / 1500: loss inf\n",
      "iteration 700 / 1500: loss inf\n",
      "iteration 800 / 1500: loss inf\n",
      "iteration 900 / 1500: loss inf\n",
      "iteration 1000 / 1500: loss inf\n",
      "iteration 1100 / 1500: loss inf\n",
      "iteration 1200 / 1500: loss inf\n",
      "iteration 1300 / 1500: loss inf\n",
      "iteration 1400 / 1500: loss inf\n",
      "iteration 0 / 1500: loss 11.057112\n",
      "iteration 100 / 1500: loss inf\n",
      "iteration 200 / 1500: loss inf\n",
      "iteration 300 / 1500: loss inf\n",
      "iteration 400 / 1500: loss inf\n",
      "iteration 500 / 1500: loss inf\n",
      "iteration 600 / 1500: loss inf\n",
      "iteration 700 / 1500: loss inf\n",
      "iteration 800 / 1500: loss inf\n",
      "iteration 900 / 1500: loss inf\n",
      "iteration 1000 / 1500: loss inf\n",
      "iteration 1100 / 1500: loss inf\n",
      "iteration 1200 / 1500: loss inf\n",
      "iteration 1300 / 1500: loss inf\n",
      "iteration 1400 / 1500: loss inf\n",
      "iteration 0 / 1500: loss 10.969724\n",
      "iteration 100 / 1500: loss 100.659225\n",
      "iteration 200 / 1500: loss inf\n",
      "iteration 300 / 1500: loss inf\n",
      "iteration 400 / 1500: loss inf\n",
      "iteration 500 / 1500: loss inf\n",
      "iteration 600 / 1500: loss inf\n",
      "iteration 700 / 1500: loss inf\n",
      "iteration 800 / 1500: loss inf\n",
      "iteration 900 / 1500: loss inf\n",
      "iteration 1000 / 1500: loss inf\n",
      "iteration 1100 / 1500: loss inf\n",
      "iteration 1200 / 1500: loss inf\n",
      "iteration 1300 / 1500: loss inf\n",
      "iteration 1400 / 1500: loss inf\n",
      "iteration 0 / 1500: loss 10.538474\n",
      "iteration 100 / 1500: loss inf\n",
      "iteration 200 / 1500: loss inf\n",
      "iteration 300 / 1500: loss inf\n",
      "iteration 400 / 1500: loss inf\n",
      "iteration 500 / 1500: loss inf\n",
      "iteration 600 / 1500: loss inf\n",
      "iteration 700 / 1500: loss inf\n",
      "iteration 800 / 1500: loss inf\n",
      "iteration 900 / 1500: loss inf\n",
      "iteration 1000 / 1500: loss inf\n",
      "iteration 1100 / 1500: loss inf\n",
      "iteration 1200 / 1500: loss inf\n",
      "iteration 1300 / 1500: loss inf\n",
      "iteration 1400 / 1500: loss inf\n",
      "iteration 0 / 1500: loss 11.880431\n",
      "iteration 100 / 1500: loss inf\n",
      "iteration 200 / 1500: loss inf\n",
      "iteration 300 / 1500: loss inf\n",
      "iteration 400 / 1500: loss inf\n",
      "iteration 500 / 1500: loss inf\n",
      "iteration 600 / 1500: loss inf\n",
      "iteration 700 / 1500: loss inf\n",
      "iteration 800 / 1500: loss inf\n",
      "iteration 900 / 1500: loss inf\n",
      "iteration 1000 / 1500: loss inf\n",
      "iteration 1100 / 1500: loss inf\n",
      "iteration 1200 / 1500: loss inf\n",
      "iteration 1300 / 1500: loss inf\n",
      "iteration 1400 / 1500: loss inf\n",
      "iteration 0 / 1500: loss 11.461731\n",
      "iteration 100 / 1500: loss 17.508315\n",
      "iteration 200 / 1500: loss 31.471587\n",
      "iteration 300 / 1500: loss 40.589631\n",
      "iteration 400 / 1500: loss 49.922190\n",
      "iteration 500 / 1500: loss 73.070554\n",
      "iteration 600 / 1500: loss 74.045998\n",
      "iteration 700 / 1500: loss inf\n",
      "iteration 800 / 1500: loss 81.753876\n",
      "iteration 900 / 1500: loss inf\n",
      "iteration 1000 / 1500: loss 119.025187\n",
      "iteration 1100 / 1500: loss inf\n",
      "iteration 1200 / 1500: loss inf\n",
      "iteration 1300 / 1500: loss inf\n",
      "iteration 1400 / 1500: loss inf\n",
      "iteration 0 / 1500: loss 10.812399\n",
      "iteration 100 / 1500: loss 18.555991\n",
      "iteration 200 / 1500: loss 26.984466\n",
      "iteration 300 / 1500: loss 34.214327\n",
      "iteration 400 / 1500: loss 42.535130\n",
      "iteration 500 / 1500: loss 65.451920\n",
      "iteration 600 / 1500: loss 63.369286\n",
      "iteration 700 / 1500: loss inf\n",
      "iteration 800 / 1500: loss 82.947996\n",
      "iteration 900 / 1500: loss 102.974315\n",
      "iteration 1000 / 1500: loss inf\n",
      "iteration 1100 / 1500: loss inf\n",
      "iteration 1200 / 1500: loss inf\n",
      "iteration 1300 / 1500: loss inf\n",
      "iteration 1400 / 1500: loss inf\n",
      "iteration 0 / 1500: loss 10.637520\n",
      "iteration 100 / 1500: loss 17.337011\n",
      "iteration 200 / 1500: loss 25.298642\n",
      "iteration 300 / 1500: loss 38.467463\n",
      "iteration 400 / 1500: loss 54.939574\n",
      "iteration 500 / 1500: loss 60.414140\n",
      "iteration 600 / 1500: loss 72.455802\n",
      "iteration 700 / 1500: loss inf\n",
      "iteration 800 / 1500: loss 90.164946\n",
      "iteration 900 / 1500: loss 100.187124\n",
      "iteration 1000 / 1500: loss inf\n",
      "iteration 1100 / 1500: loss inf\n",
      "iteration 1200 / 1500: loss inf\n",
      "iteration 1300 / 1500: loss inf\n",
      "iteration 1400 / 1500: loss inf\n",
      "iteration 0 / 1500: loss 10.639573\n",
      "iteration 100 / 1500: loss 17.354602\n",
      "iteration 200 / 1500: loss 27.982728\n",
      "iteration 300 / 1500: loss 34.465859\n",
      "iteration 400 / 1500: loss 53.257845\n",
      "iteration 500 / 1500: loss 57.105250\n",
      "iteration 600 / 1500: loss 70.661566\n",
      "iteration 700 / 1500: loss 85.868442\n",
      "iteration 800 / 1500: loss inf\n",
      "iteration 900 / 1500: loss 91.792896\n",
      "iteration 1000 / 1500: loss inf\n",
      "iteration 1100 / 1500: loss inf\n",
      "iteration 1200 / 1500: loss inf\n",
      "iteration 1300 / 1500: loss inf\n",
      "iteration 1400 / 1500: loss inf\n",
      "iteration 0 / 1500: loss 10.599205\n",
      "iteration 100 / 1500: loss 16.179100\n",
      "iteration 200 / 1500: loss 25.230719\n",
      "iteration 300 / 1500: loss 37.032863\n",
      "iteration 400 / 1500: loss 51.087448\n",
      "iteration 500 / 1500: loss 55.806179\n",
      "iteration 600 / 1500: loss 84.189182\n",
      "iteration 700 / 1500: loss inf\n",
      "iteration 800 / 1500: loss 98.865651\n",
      "iteration 900 / 1500: loss inf\n",
      "iteration 1000 / 1500: loss inf\n",
      "iteration 1100 / 1500: loss inf\n",
      "iteration 1200 / 1500: loss inf\n",
      "iteration 1300 / 1500: loss inf\n",
      "iteration 1400 / 1500: loss inf\n",
      "iteration 0 / 1500: loss 11.035841\n",
      "iteration 100 / 1500: loss 14.950523\n",
      "iteration 200 / 1500: loss 21.025990\n",
      "iteration 300 / 1500: loss 26.354624\n",
      "iteration 400 / 1500: loss 34.132120\n",
      "iteration 500 / 1500: loss 38.264403\n",
      "iteration 600 / 1500: loss 43.352790\n",
      "iteration 700 / 1500: loss 46.031743\n",
      "iteration 800 / 1500: loss 51.374813\n",
      "iteration 900 / 1500: loss 50.505969\n",
      "iteration 1000 / 1500: loss 61.946527\n",
      "iteration 1100 / 1500: loss 72.432727\n",
      "iteration 1200 / 1500: loss 81.072738\n",
      "iteration 1300 / 1500: loss 90.872571\n",
      "iteration 1400 / 1500: loss 71.133581\n",
      "iteration 0 / 1500: loss 10.704950\n",
      "iteration 100 / 1500: loss 13.705619\n",
      "iteration 200 / 1500: loss 17.180218\n",
      "iteration 300 / 1500: loss 22.420049\n",
      "iteration 400 / 1500: loss 28.359984\n",
      "iteration 500 / 1500: loss 34.363021\n",
      "iteration 600 / 1500: loss 40.114517\n",
      "iteration 700 / 1500: loss 44.531037\n",
      "iteration 800 / 1500: loss 52.417248\n"
     ]
    },
    {
     "name": "stdout",
     "output_type": "stream",
     "text": [
      "iteration 900 / 1500: loss 57.963793\n",
      "iteration 1000 / 1500: loss 62.803546\n",
      "iteration 1100 / 1500: loss 72.991386\n",
      "iteration 1200 / 1500: loss 79.633485\n",
      "iteration 1300 / 1500: loss 80.579326\n",
      "iteration 1400 / 1500: loss 93.773303\n",
      "iteration 0 / 1500: loss 10.588889\n",
      "iteration 100 / 1500: loss 14.113477\n",
      "iteration 200 / 1500: loss 16.690732\n",
      "iteration 300 / 1500: loss 20.885429\n",
      "iteration 400 / 1500: loss 27.943624\n",
      "iteration 500 / 1500: loss 35.677015\n",
      "iteration 600 / 1500: loss 41.977149\n",
      "iteration 700 / 1500: loss 43.387496\n",
      "iteration 800 / 1500: loss 56.239834\n",
      "iteration 900 / 1500: loss 53.695806\n",
      "iteration 1000 / 1500: loss 65.048353\n",
      "iteration 1100 / 1500: loss 56.544349\n",
      "iteration 1200 / 1500: loss 74.650788\n",
      "iteration 1300 / 1500: loss 67.251700\n",
      "iteration 1400 / 1500: loss 88.379485\n",
      "iteration 0 / 1500: loss 9.969727\n",
      "iteration 100 / 1500: loss 12.915702\n",
      "iteration 200 / 1500: loss 16.621113\n",
      "iteration 300 / 1500: loss 20.708916\n",
      "iteration 400 / 1500: loss 25.566202\n",
      "iteration 500 / 1500: loss 33.287885\n",
      "iteration 600 / 1500: loss 36.368469\n",
      "iteration 700 / 1500: loss 40.637098\n",
      "iteration 800 / 1500: loss 49.242602\n",
      "iteration 900 / 1500: loss 50.145033\n",
      "iteration 1000 / 1500: loss 51.928346\n",
      "iteration 1100 / 1500: loss 80.383780\n",
      "iteration 1200 / 1500: loss 72.144918\n",
      "iteration 1300 / 1500: loss 76.597436\n",
      "iteration 1400 / 1500: loss 69.619972\n",
      "iteration 0 / 1500: loss 10.484946\n",
      "iteration 100 / 1500: loss 12.304672\n",
      "iteration 200 / 1500: loss 19.542368\n",
      "iteration 300 / 1500: loss 20.984010\n",
      "iteration 400 / 1500: loss 29.869059\n",
      "iteration 500 / 1500: loss 34.094379\n",
      "iteration 600 / 1500: loss 36.014864\n",
      "iteration 700 / 1500: loss 46.991440\n",
      "iteration 800 / 1500: loss 49.816525\n",
      "iteration 900 / 1500: loss 51.478987\n",
      "iteration 1000 / 1500: loss 62.890280\n",
      "iteration 1100 / 1500: loss 66.512474\n",
      "iteration 1200 / 1500: loss 71.642227\n",
      "iteration 1300 / 1500: loss 69.214154\n",
      "iteration 1400 / 1500: loss inf\n",
      "best cross-validation accuracy: 0.27\n"
     ]
    }
   ],
   "source": [
    "# Use the validation set to tune hyperparameters (regularization strength and\n",
    "# learning rate). You should experiment with different ranges for the learning\n",
    "# rates and regularization strengths; if you are careful you should be able to\n",
    "# get a classification accuracy of over 35% on the validation set.\n",
    "\n",
    "import copy\n",
    "best_val_acc = -1\n",
    "best_softmax = None        # You may need to use copy.deepcopy(object)\n",
    "learning_rates = [1e-4,1e-5, 1e-6,5e-7]\n",
    "regularization_strengths = [1e-4, 1e-3, 1e-2, 1e-1, 1e0]\n",
    "results = {}\n",
    "################################################################################\n",
    "# TODO:                                                                        #\n",
    "# Use the validation set to set the learning rate and regularization strength. #\n",
    "# Save the best trained softmax classifer in best_softmax.                     #\n",
    "################################################################################\n",
    "for lr in learning_rates:\n",
    "    for rs in regularization_strengths:\n",
    "        classifier = Softmax()\n",
    "        classifier.train(X_train, y_train, learning_rate=lr, reg=rs,\n",
    "                                  num_iters=1500, verbose=True)\n",
    "        y_val_pred = classifier.predict(X_val)\n",
    "        val_acc = np.mean(y_val == y_val_pred)\n",
    "        if val_acc > best_val_acc:\n",
    "            best_softmax = classifier\n",
    "            best_val_acc = val_acc\n",
    "\n",
    "\n",
    "################################################################################\n",
    "#                              END OF YOUR CODE                                #\n",
    "################################################################################   \n",
    "print('best cross-validation accuracy: %.2f' % best_val_acc)"
   ]
  },
  {
   "cell_type": "code",
   "execution_count": 34,
   "metadata": {},
   "outputs": [
    {
     "name": "stdout",
     "output_type": "stream",
     "text": [
      "softmax on raw pixels final test set accuracy: 26.40\n"
     ]
    }
   ],
   "source": [
    "# evaluate on test set\n",
    "# Evaluate the best softmax on test set\n",
    "y_test_pred = best_softmax.predict(X_test)\n",
    "test_accuracy = np.mean(y_test == y_test_pred)\n",
    "print('softmax on raw pixels final test set accuracy: %.2f' % (100*test_accuracy, ))"
   ]
  },
  {
   "cell_type": "code",
   "execution_count": null,
   "metadata": {},
   "outputs": [],
   "source": []
  }
 ],
 "metadata": {
  "anaconda-cloud": {},
  "kernelspec": {
   "display_name": "Python 3",
   "language": "python",
   "name": "python3"
  },
  "language_info": {
   "codemirror_mode": {
    "name": "ipython",
    "version": 3
   },
   "file_extension": ".py",
   "mimetype": "text/x-python",
   "name": "python",
   "nbconvert_exporter": "python",
   "pygments_lexer": "ipython3",
   "version": "3.6.7"
  }
 },
 "nbformat": 4,
 "nbformat_minor": 1
}
